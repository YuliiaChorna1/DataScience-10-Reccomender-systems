{
 "cells": [
  {
   "cell_type": "code",
   "execution_count": 1,
   "metadata": {},
   "outputs": [
    {
     "name": "stdout",
     "output_type": "stream",
     "text": [
      "Collecting git+https://github.com/ai-forever/Kandinsky-2.git\n",
      "  Cloning https://github.com/ai-forever/Kandinsky-2.git to c:\\users\\yulic\\appdata\\local\\temp\\pip-req-build-voib9b3r\n",
      "  Resolved https://github.com/ai-forever/Kandinsky-2.git to commit aeefc1ce3a989eefe7c99d6a02cce44318c4d210\n",
      "  Preparing metadata (setup.py): started\n",
      "  Preparing metadata (setup.py): finished with status 'done'\n",
      "Requirement already satisfied: Pillow in c:\\users\\yulic\\appdata\\local\\programs\\python\\python312\\lib\\site-packages (from kandinsky2==0.0.0) (10.4.0)\n",
      "Requirement already satisfied: attrs in c:\\users\\yulic\\appdata\\local\\programs\\python\\python312\\lib\\site-packages (from kandinsky2==0.0.0) (24.2.0)\n",
      "Requirement already satisfied: torch in c:\\users\\yulic\\appdata\\local\\programs\\python\\python312\\lib\\site-packages (from kandinsky2==0.0.0) (2.5.1)\n",
      "Requirement already satisfied: filelock in c:\\users\\yulic\\appdata\\local\\programs\\python\\python312\\lib\\site-packages (from kandinsky2==0.0.0) (3.16.1)\n",
      "Requirement already satisfied: requests in c:\\users\\yulic\\appdata\\local\\programs\\python\\python312\\lib\\site-packages (from kandinsky2==0.0.0) (2.32.3)\n",
      "Requirement already satisfied: tqdm in c:\\users\\yulic\\appdata\\local\\programs\\python\\python312\\lib\\site-packages (from kandinsky2==0.0.0) (4.66.5)\n",
      "Requirement already satisfied: ftfy in c:\\users\\yulic\\appdata\\local\\programs\\python\\python312\\lib\\site-packages (from kandinsky2==0.0.0) (6.3.1)\n",
      "Requirement already satisfied: regex in c:\\users\\yulic\\appdata\\local\\programs\\python\\python312\\lib\\site-packages (from kandinsky2==0.0.0) (2024.9.11)\n",
      "Requirement already satisfied: numpy in c:\\users\\yulic\\appdata\\local\\programs\\python\\python312\\lib\\site-packages (from kandinsky2==0.0.0) (1.26.4)\n",
      "Requirement already satisfied: blobfile in c:\\users\\yulic\\appdata\\local\\programs\\python\\python312\\lib\\site-packages (from kandinsky2==0.0.0) (3.0.0)\n",
      "Requirement already satisfied: transformers in c:\\users\\yulic\\appdata\\local\\programs\\python\\python312\\lib\\site-packages (from kandinsky2==0.0.0) (4.46.2)\n",
      "Requirement already satisfied: torchvision in c:\\users\\yulic\\appdata\\local\\programs\\python\\python312\\lib\\site-packages (from kandinsky2==0.0.0) (0.20.1)\n",
      "Requirement already satisfied: omegaconf in c:\\users\\yulic\\appdata\\local\\programs\\python\\python312\\lib\\site-packages (from kandinsky2==0.0.0) (2.3.0)\n",
      "Requirement already satisfied: pytorch_lightning in c:\\users\\yulic\\appdata\\local\\programs\\python\\python312\\lib\\site-packages (from kandinsky2==0.0.0) (2.4.0)\n",
      "Requirement already satisfied: einops in c:\\users\\yulic\\appdata\\local\\programs\\python\\python312\\lib\\site-packages (from kandinsky2==0.0.0) (0.8.0)\n",
      "Requirement already satisfied: sentencepiece in c:\\users\\yulic\\appdata\\local\\programs\\python\\python312\\lib\\site-packages (from kandinsky2==0.0.0) (0.2.0)\n",
      "Requirement already satisfied: diffusers in c:\\users\\yulic\\appdata\\local\\programs\\python\\python312\\lib\\site-packages (from kandinsky2==0.0.0) (0.31.0)\n",
      "Requirement already satisfied: accelerate in c:\\users\\yulic\\appdata\\local\\programs\\python\\python312\\lib\\site-packages (from kandinsky2==0.0.0) (1.1.1)\n",
      "Requirement already satisfied: huggingface-hub>=0.21.0 in c:\\users\\yulic\\appdata\\local\\programs\\python\\python312\\lib\\site-packages (from accelerate->kandinsky2==0.0.0) (0.25.1)\n",
      "Requirement already satisfied: packaging>=20.0 in c:\\users\\yulic\\appdata\\roaming\\python\\python312\\site-packages (from accelerate->kandinsky2==0.0.0) (24.1)\n",
      "Requirement already satisfied: psutil in c:\\users\\yulic\\appdata\\roaming\\python\\python312\\site-packages (from accelerate->kandinsky2==0.0.0) (6.0.0)\n",
      "Requirement already satisfied: pyyaml in c:\\users\\yulic\\appdata\\local\\programs\\python\\python312\\lib\\site-packages (from accelerate->kandinsky2==0.0.0) (6.0.2)\n",
      "Requirement already satisfied: safetensors>=0.4.3 in c:\\users\\yulic\\appdata\\local\\programs\\python\\python312\\lib\\site-packages (from accelerate->kandinsky2==0.0.0) (0.4.5)\n",
      "Requirement already satisfied: typing-extensions>=4.8.0 in c:\\users\\yulic\\appdata\\local\\programs\\python\\python312\\lib\\site-packages (from torch->kandinsky2==0.0.0) (4.12.2)\n",
      "Requirement already satisfied: networkx in c:\\users\\yulic\\appdata\\local\\programs\\python\\python312\\lib\\site-packages (from torch->kandinsky2==0.0.0) (3.4.2)\n",
      "Requirement already satisfied: jinja2 in c:\\users\\yulic\\appdata\\local\\programs\\python\\python312\\lib\\site-packages (from torch->kandinsky2==0.0.0) (3.1.4)\n",
      "Requirement already satisfied: fsspec in c:\\users\\yulic\\appdata\\local\\programs\\python\\python312\\lib\\site-packages (from torch->kandinsky2==0.0.0) (2024.9.0)\n",
      "Requirement already satisfied: setuptools in c:\\users\\yulic\\appdata\\local\\programs\\python\\python312\\lib\\site-packages (from torch->kandinsky2==0.0.0) (75.2.0)\n",
      "Requirement already satisfied: sympy==1.13.1 in c:\\users\\yulic\\appdata\\local\\programs\\python\\python312\\lib\\site-packages (from torch->kandinsky2==0.0.0) (1.13.1)\n",
      "Requirement already satisfied: mpmath<1.4,>=1.1.0 in c:\\users\\yulic\\appdata\\local\\programs\\python\\python312\\lib\\site-packages (from sympy==1.13.1->torch->kandinsky2==0.0.0) (1.3.0)\n",
      "Requirement already satisfied: pycryptodomex>=3.8 in c:\\users\\yulic\\appdata\\local\\programs\\python\\python312\\lib\\site-packages (from blobfile->kandinsky2==0.0.0) (3.20.0)\n",
      "Requirement already satisfied: urllib3<3,>=1.25.3 in c:\\users\\yulic\\appdata\\local\\programs\\python\\python312\\lib\\site-packages (from blobfile->kandinsky2==0.0.0) (2.2.3)\n",
      "Requirement already satisfied: lxml>=4.9 in c:\\users\\yulic\\appdata\\local\\programs\\python\\python312\\lib\\site-packages (from blobfile->kandinsky2==0.0.0) (5.3.0)\n",
      "Requirement already satisfied: importlib-metadata in c:\\users\\yulic\\appdata\\local\\programs\\python\\python312\\lib\\site-packages (from diffusers->kandinsky2==0.0.0) (8.5.0)\n",
      "Requirement already satisfied: wcwidth in c:\\users\\yulic\\appdata\\roaming\\python\\python312\\site-packages (from ftfy->kandinsky2==0.0.0) (0.2.13)\n",
      "Requirement already satisfied: antlr4-python3-runtime==4.9.* in c:\\users\\yulic\\appdata\\local\\programs\\python\\python312\\lib\\site-packages (from omegaconf->kandinsky2==0.0.0) (4.9.3)\n",
      "Requirement already satisfied: torchmetrics>=0.7.0 in c:\\users\\yulic\\appdata\\local\\programs\\python\\python312\\lib\\site-packages (from pytorch_lightning->kandinsky2==0.0.0) (1.5.2)\n",
      "Requirement already satisfied: lightning-utilities>=0.10.0 in c:\\users\\yulic\\appdata\\local\\programs\\python\\python312\\lib\\site-packages (from pytorch_lightning->kandinsky2==0.0.0) (0.11.8)\n",
      "Requirement already satisfied: colorama in c:\\users\\yulic\\appdata\\roaming\\python\\python312\\site-packages (from tqdm->kandinsky2==0.0.0) (0.4.6)\n",
      "Requirement already satisfied: charset-normalizer<4,>=2 in c:\\users\\yulic\\appdata\\local\\programs\\python\\python312\\lib\\site-packages (from requests->kandinsky2==0.0.0) (3.3.2)\n",
      "Requirement already satisfied: idna<4,>=2.5 in c:\\users\\yulic\\appdata\\local\\programs\\python\\python312\\lib\\site-packages (from requests->kandinsky2==0.0.0) (3.10)\n",
      "Requirement already satisfied: certifi>=2017.4.17 in c:\\users\\yulic\\appdata\\local\\programs\\python\\python312\\lib\\site-packages (from requests->kandinsky2==0.0.0) (2024.8.30)\n",
      "Requirement already satisfied: tokenizers<0.21,>=0.20 in c:\\users\\yulic\\appdata\\local\\programs\\python\\python312\\lib\\site-packages (from transformers->kandinsky2==0.0.0) (0.20.3)\n",
      "Requirement already satisfied: aiohttp!=4.0.0a0,!=4.0.0a1 in c:\\users\\yulic\\appdata\\local\\programs\\python\\python312\\lib\\site-packages (from fsspec[http]>=2022.5.0->pytorch_lightning->kandinsky2==0.0.0) (3.10.10)\n",
      "Requirement already satisfied: zipp>=3.20 in c:\\users\\yulic\\appdata\\local\\programs\\python\\python312\\lib\\site-packages (from importlib-metadata->diffusers->kandinsky2==0.0.0) (3.21.0)\n",
      "Requirement already satisfied: MarkupSafe>=2.0 in c:\\users\\yulic\\appdata\\local\\programs\\python\\python312\\lib\\site-packages (from jinja2->torch->kandinsky2==0.0.0) (2.1.4)\n",
      "Requirement already satisfied: aiohappyeyeballs>=2.3.0 in c:\\users\\yulic\\appdata\\local\\programs\\python\\python312\\lib\\site-packages (from aiohttp!=4.0.0a0,!=4.0.0a1->fsspec[http]>=2022.5.0->pytorch_lightning->kandinsky2==0.0.0) (2.4.3)\n",
      "Requirement already satisfied: aiosignal>=1.1.2 in c:\\users\\yulic\\appdata\\local\\programs\\python\\python312\\lib\\site-packages (from aiohttp!=4.0.0a0,!=4.0.0a1->fsspec[http]>=2022.5.0->pytorch_lightning->kandinsky2==0.0.0) (1.3.1)\n",
      "Requirement already satisfied: frozenlist>=1.1.1 in c:\\users\\yulic\\appdata\\local\\programs\\python\\python312\\lib\\site-packages (from aiohttp!=4.0.0a0,!=4.0.0a1->fsspec[http]>=2022.5.0->pytorch_lightning->kandinsky2==0.0.0) (1.5.0)\n",
      "Requirement already satisfied: multidict<7.0,>=4.5 in c:\\users\\yulic\\appdata\\local\\programs\\python\\python312\\lib\\site-packages (from aiohttp!=4.0.0a0,!=4.0.0a1->fsspec[http]>=2022.5.0->pytorch_lightning->kandinsky2==0.0.0) (6.1.0)\n",
      "Requirement already satisfied: yarl<2.0,>=1.12.0 in c:\\users\\yulic\\appdata\\local\\programs\\python\\python312\\lib\\site-packages (from aiohttp!=4.0.0a0,!=4.0.0a1->fsspec[http]>=2022.5.0->pytorch_lightning->kandinsky2==0.0.0) (1.17.1)\n",
      "Requirement already satisfied: propcache>=0.2.0 in c:\\users\\yulic\\appdata\\local\\programs\\python\\python312\\lib\\site-packages (from yarl<2.0,>=1.12.0->aiohttp!=4.0.0a0,!=4.0.0a1->fsspec[http]>=2022.5.0->pytorch_lightning->kandinsky2==0.0.0) (0.2.0)\n",
      "Note: you may need to restart the kernel to use updated packages.\n"
     ]
    },
    {
     "name": "stderr",
     "output_type": "stream",
     "text": [
      "  Running command git clone --filter=blob:none --quiet https://github.com/ai-forever/Kandinsky-2.git 'C:\\Users\\yulic\\AppData\\Local\\Temp\\pip-req-build-voib9b3r'\n",
      "\n",
      "[notice] A new release of pip is available: 24.2 -> 24.3.1\n",
      "[notice] To update, run: python.exe -m pip install --upgrade pip\n"
     ]
    },
    {
     "name": "stdout",
     "output_type": "stream",
     "text": [
      "Collecting git+https://github.com/openai/CLIP.git\n",
      "  Cloning https://github.com/openai/CLIP.git to c:\\users\\yulic\\appdata\\local\\temp\\pip-req-build-9wijdsh7\n",
      "  Resolved https://github.com/openai/CLIP.git to commit dcba3cb2e2827b402d2701e7e1c7d9fed8a20ef1\n",
      "  Preparing metadata (setup.py): started\n",
      "  Preparing metadata (setup.py): finished with status 'done'\n",
      "Requirement already satisfied: ftfy in c:\\users\\yulic\\appdata\\local\\programs\\python\\python312\\lib\\site-packages (from clip==1.0) (6.3.1)\n",
      "Requirement already satisfied: packaging in c:\\users\\yulic\\appdata\\roaming\\python\\python312\\site-packages (from clip==1.0) (24.1)\n",
      "Requirement already satisfied: regex in c:\\users\\yulic\\appdata\\local\\programs\\python\\python312\\lib\\site-packages (from clip==1.0) (2024.9.11)\n",
      "Requirement already satisfied: tqdm in c:\\users\\yulic\\appdata\\local\\programs\\python\\python312\\lib\\site-packages (from clip==1.0) (4.66.5)\n",
      "Requirement already satisfied: torch in c:\\users\\yulic\\appdata\\local\\programs\\python\\python312\\lib\\site-packages (from clip==1.0) (2.5.1)\n",
      "Requirement already satisfied: torchvision in c:\\users\\yulic\\appdata\\local\\programs\\python\\python312\\lib\\site-packages (from clip==1.0) (0.20.1)\n",
      "Requirement already satisfied: wcwidth in c:\\users\\yulic\\appdata\\roaming\\python\\python312\\site-packages (from ftfy->clip==1.0) (0.2.13)\n",
      "Requirement already satisfied: filelock in c:\\users\\yulic\\appdata\\local\\programs\\python\\python312\\lib\\site-packages (from torch->clip==1.0) (3.16.1)\n",
      "Requirement already satisfied: typing-extensions>=4.8.0 in c:\\users\\yulic\\appdata\\local\\programs\\python\\python312\\lib\\site-packages (from torch->clip==1.0) (4.12.2)\n",
      "Requirement already satisfied: networkx in c:\\users\\yulic\\appdata\\local\\programs\\python\\python312\\lib\\site-packages (from torch->clip==1.0) (3.4.2)\n",
      "Requirement already satisfied: jinja2 in c:\\users\\yulic\\appdata\\local\\programs\\python\\python312\\lib\\site-packages (from torch->clip==1.0) (3.1.4)\n",
      "Requirement already satisfied: fsspec in c:\\users\\yulic\\appdata\\local\\programs\\python\\python312\\lib\\site-packages (from torch->clip==1.0) (2024.9.0)\n",
      "Requirement already satisfied: setuptools in c:\\users\\yulic\\appdata\\local\\programs\\python\\python312\\lib\\site-packages (from torch->clip==1.0) (75.2.0)\n",
      "Requirement already satisfied: sympy==1.13.1 in c:\\users\\yulic\\appdata\\local\\programs\\python\\python312\\lib\\site-packages (from torch->clip==1.0) (1.13.1)\n",
      "Requirement already satisfied: mpmath<1.4,>=1.1.0 in c:\\users\\yulic\\appdata\\local\\programs\\python\\python312\\lib\\site-packages (from sympy==1.13.1->torch->clip==1.0) (1.3.0)\n",
      "Requirement already satisfied: numpy in c:\\users\\yulic\\appdata\\local\\programs\\python\\python312\\lib\\site-packages (from torchvision->clip==1.0) (1.26.4)\n",
      "Requirement already satisfied: pillow!=8.3.*,>=5.3.0 in c:\\users\\yulic\\appdata\\local\\programs\\python\\python312\\lib\\site-packages (from torchvision->clip==1.0) (10.4.0)\n",
      "Requirement already satisfied: colorama in c:\\users\\yulic\\appdata\\roaming\\python\\python312\\site-packages (from tqdm->clip==1.0) (0.4.6)\n",
      "Requirement already satisfied: MarkupSafe>=2.0 in c:\\users\\yulic\\appdata\\local\\programs\\python\\python312\\lib\\site-packages (from jinja2->torch->clip==1.0) (2.1.4)\n",
      "Note: you may need to restart the kernel to use updated packages.\n"
     ]
    },
    {
     "name": "stderr",
     "output_type": "stream",
     "text": [
      "  Running command git clone --filter=blob:none --quiet https://github.com/openai/CLIP.git 'C:\\Users\\yulic\\AppData\\Local\\Temp\\pip-req-build-9wijdsh7'\n",
      "\n",
      "[notice] A new release of pip is available: 24.2 -> 24.3.1\n",
      "[notice] To update, run: python.exe -m pip install --upgrade pip\n"
     ]
    }
   ],
   "source": [
    "%pip install \"git+https://github.com/ai-forever/Kandinsky-2.git\"\n",
    "%pip install git+https://github.com/openai/CLIP.git"
   ]
  },
  {
   "cell_type": "code",
   "execution_count": 2,
   "metadata": {},
   "outputs": [
    {
     "name": "stdout",
     "output_type": "stream",
     "text": [
      "Requirement already satisfied: opencv-python in c:\\users\\yulic\\appdata\\local\\programs\\python\\python312\\lib\\site-packages (4.10.0.84)\n",
      "Requirement already satisfied: numpy>=1.21.2 in c:\\users\\yulic\\appdata\\local\\programs\\python\\python312\\lib\\site-packages (from opencv-python) (1.26.4)\n",
      "Note: you may need to restart the kernel to use updated packages.\n"
     ]
    },
    {
     "name": "stderr",
     "output_type": "stream",
     "text": [
      "\n",
      "[notice] A new release of pip is available: 24.2 -> 24.3.1\n",
      "[notice] To update, run: python.exe -m pip install --upgrade pip\n"
     ]
    }
   ],
   "source": [
    "%pip install opencv-python"
   ]
  },
  {
   "cell_type": "code",
   "execution_count": 5,
   "metadata": {},
   "outputs": [],
   "source": [
    "import kandinsky2\n",
    "from kandinsky2 import get_kandinsky2"
   ]
  },
  {
   "cell_type": "code",
   "execution_count": null,
   "metadata": {},
   "outputs": [
    {
     "name": "stderr",
     "output_type": "stream",
     "text": [
      "c:\\Users\\yulic\\AppData\\Local\\Programs\\Python\\Python312\\Lib\\site-packages\\huggingface_hub\\utils\\_deprecation.py:131: FutureWarning: 'cached_download' (from 'huggingface_hub.file_download') is deprecated and will be removed from version '0.26'. Use `hf_hub_download` instead.\n",
      "  warnings.warn(warning_message, FutureWarning)\n",
      "c:\\Users\\yulic\\AppData\\Local\\Programs\\Python\\Python312\\Lib\\site-packages\\huggingface_hub\\file_download.py:672: FutureWarning: 'cached_download' is the legacy way to download files from the HF hub, please consider upgrading to 'hf_hub_download'\n",
      "  warnings.warn(\n"
     ]
    }
   ],
   "source": [
    "model = get_kandinsky2(\"cuda\", task_type=\"text2img\", cache_dir=\"/tmp/kandinsky2\", model_version=\"2.1\", use_flash_attention=False)"
   ]
  },
  {
   "cell_type": "code",
   "execution_count": null,
   "metadata": {},
   "outputs": [],
   "source": [
    "images = model.generate_text2img(\"\"\"red cat, 4k photo\"\"\", num_steps=100,\n",
    "                                 batch_size=1, guidance_scale=4,\n",
    "                                 h=768, w=768,\n",
    "                                 sampler=\"p_sampler\", prior_cf_scale=4,\n",
    "                                 prior_steps=\"5\",)"
   ]
  },
  {
   "cell_type": "code",
   "execution_count": null,
   "metadata": {},
   "outputs": [],
   "source": [
    "images[0]"
   ]
  }
 ],
 "metadata": {
  "kernelspec": {
   "display_name": "Python 3",
   "language": "python",
   "name": "python3"
  },
  "language_info": {
   "codemirror_mode": {
    "name": "ipython",
    "version": 3
   },
   "file_extension": ".py",
   "mimetype": "text/x-python",
   "name": "python",
   "nbconvert_exporter": "python",
   "pygments_lexer": "ipython3",
   "version": "3.12.4"
  }
 },
 "nbformat": 4,
 "nbformat_minor": 2
}
