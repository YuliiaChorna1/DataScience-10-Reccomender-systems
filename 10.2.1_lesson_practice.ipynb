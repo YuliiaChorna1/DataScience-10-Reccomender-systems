{
 "cells": [
  {
   "cell_type": "code",
   "execution_count": null,
   "metadata": {},
   "outputs": [],
   "source": [
    "! pip install lightfm"
   ]
  },
  {
   "cell_type": "code",
   "execution_count": null,
   "metadata": {},
   "outputs": [],
   "source": [
    "import pandas as pd\n",
    "from lightfm import LightFM\n",
    "from lightfm.data import Dataset\n",
    "from lightfm.evaluation import precision_at_k, recall_at_k\n",
    "import numpy as np"
   ]
  },
  {
   "cell_type": "code",
   "execution_count": null,
   "metadata": {},
   "outputs": [],
   "source": [
    "# Завантаження даних\n",
    "data = pd.read_csv(\"ratings.csv\")\n",
    "\n",
    "# Підготовка даних\n",
    "dataset = Dataset()\n",
    "dataset.fit(data[\"userId\"], data[\"movieId\"])\n",
    "\n",
    "# Побудова взаємодій (інтеракцій) матриці\n",
    "(interactions, weights) = dataset.build_interactions(\n",
    "    ((row[\"userId\"], row[\"movieId\"], row[\"rating\"]) for index, row in data.iterrows())\n",
    ")\n",
    "\n",
    "# Побудова моделі\n",
    "model = LightFM(loss=\"warp\")\n",
    "model.fit(interactions, epochs=30, num_threads=2)\n",
    "\n",
    "# Оцінка моделі\n",
    "train_precision = precision_at_k(model, interactions, k=10).mean()\n",
    "train_recall = recall_at_k(model, interactions, k=10).mean()\n",
    "\n",
    "print(f\"Train precision: {train_precision}\")\n",
    "print(f\"Train recall: {train_recall}\")\n",
    "\n",
    "# Рекомендації для конкретного користувача\n",
    "def sample_recommendation(model, data, user_ids):\n",
    "    n_users, n_items = data.shape\n",
    "    \n",
    "    for user_id in user_ids:\n",
    "        scores = model.predict(user_id, np.arange(n_items))\n",
    "        top_items = np.argsort(-scores)[:10]\n",
    "        \n",
    "        print(f\"Recommendations for user {user_id}:\")\n",
    "        for x in top_items:\n",
    "            print(f\"    {x}\")\n",
    "\n",
    "sample_recommendation(model, interactions, [3, 25, 450])\n"
   ]
  }
 ],
 "metadata": {
  "kernelspec": {
   "display_name": "Python 3",
   "language": "python",
   "name": "python3"
  },
  "language_info": {
   "codemirror_mode": {
    "name": "ipython",
    "version": 3
   },
   "file_extension": ".py",
   "mimetype": "text/x-python",
   "name": "python",
   "nbconvert_exporter": "python",
   "pygments_lexer": "ipython3",
   "version": "3.12.3"
  }
 },
 "nbformat": 4,
 "nbformat_minor": 2
}
